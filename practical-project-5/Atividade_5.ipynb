{
 "cells": [
  {
   "cell_type": "code",
   "execution_count": 19,
   "metadata": {
    "_cell_guid": "b1076dfc-b9ad-4769-8c92-a6c4dae69d19",
    "_uuid": "8f2839f25d086af736a60e9eeb907d3b93b6e0e5"
   },
   "outputs": [],
   "source": [
    "import numpy as np\n",
    "import pandas as pd\n",
    "from combination import partitions\n",
    "from math import *\n",
    "from sklearn.neural_network import MLPClassifier\n",
    "from sklearn.model_selection import train_test_split, GridSearchCV\n",
    "from sklearn.metrics import f1_score\n",
    "import itertools"
   ]
  },
  {
   "cell_type": "code",
   "execution_count": 20,
   "metadata": {
    "_cell_guid": "79c7e3d0-c299-4dcb-8224-4455121ee9b0",
    "_uuid": "d629ff2d2480ee46fbb7e2d37f6b5fab8052498a"
   },
   "outputs": [],
   "source": [
    "df_train = pd.read_csv(\"train.csv\")\n",
    "df_test = pd.read_csv(\"test.csv\")"
   ]
  },
  {
   "cell_type": "code",
   "execution_count": 21,
   "metadata": {
    "_uuid": "531597877e17cb463186b2f51ffaa55fd7b68b65"
   },
   "outputs": [],
   "source": [
    "Y_id = df_test.id\n",
    "df_train.drop(['id'],axis=1,inplace=True)\n",
    "df_test.drop(['id'],axis=1,inplace=True)"
   ]
  },
  {
   "cell_type": "code",
   "execution_count": null,
   "metadata": {},
   "outputs": [],
   "source": []
  },
  {
   "cell_type": "code",
   "execution_count": 22,
   "metadata": {
    "_uuid": "575e7b161ca3ac090bd4c849c52218e6a573786c"
   },
   "outputs": [],
   "source": [
    "input_neurons_amount, output_neurons_amount = len(df_train.columns), 2"
   ]
  },
  {
   "cell_type": "code",
   "execution_count": 23,
   "metadata": {
    "_uuid": "e1e8af0218b817b0feb781f3973e06f3a2b89267"
   },
   "outputs": [],
   "source": [
    "def hidden_neurons_amount(alpha):\n",
    "    return alpha * sqrt(input_neurons_amount * output_neurons_amount)\n",
    "\n",
    "def condition_to_insert(partition):\n",
    "    return len(partition) <= 2"
   ]
  },
  {
   "cell_type": "code",
   "execution_count": 24,
   "metadata": {
    "_uuid": "f953197aa0b27eccb6fc54e97221291a3dd99730"
   },
   "outputs": [],
   "source": [
    "alpha = [0.5, 2, 3]\n",
    "hidden_neurons_amounts = [ceil(hidden_neurons_amount(a)) for a in alpha]\n",
    "hidden_layer_sizes = []\n",
    "\n",
    "for n in hidden_neurons_amounts:\n",
    "    tuples = partitions(n, condition_to_insert)\n",
    "    hidden_layer_sizes += tuples"
   ]
  },
  {
   "cell_type": "code",
   "execution_count": 25,
   "metadata": {
    "_uuid": "2f6cd426e648600a17bef8565c17930f26fac5d1"
   },
   "outputs": [],
   "source": [
    "params = {\n",
    "    'activation': ['identity', 'logistic','tanh','relu'],\n",
    "    'hidden_layer_sizes': hidden_layer_sizes,\n",
    "    'solver': ['lbfgs']\n",
    "}"
   ]
  },
  {
   "cell_type": "code",
   "execution_count": 26,
   "metadata": {
    "_uuid": "32369fd2c2efec27260a12c8d3962dca63084205"
   },
   "outputs": [],
   "source": [
    "gs = GridSearchCV(MLPClassifier(), params, cv=3, scoring='f1_micro', return_train_score=False)"
   ]
  },
  {
   "cell_type": "code",
   "execution_count": 27,
   "metadata": {
    "_uuid": "c6a24a6dde67788ef632e7a73c6a3ad35dac6d3b"
   },
   "outputs": [],
   "source": [
    "Y_train = df_train.Classification\n",
    "X_train = df_train.drop(['Classification'],axis=1)"
   ]
  },
  {
   "cell_type": "code",
   "execution_count": 28,
   "metadata": {
    "_uuid": "bbebf8b8191952458689105ff419b0727a51dfa5"
   },
   "outputs": [],
   "source": [
    "gs.fit(X_train, Y_train);"
   ]
  },
  {
   "cell_type": "code",
   "execution_count": 29,
   "metadata": {
    "_uuid": "cc36843108c18084f58ba73cc96b70d84200038a"
   },
   "outputs": [],
   "source": [
    "best_model = gs.best_estimator_"
   ]
  },
  {
   "cell_type": "code",
   "execution_count": 30,
   "metadata": {
    "_uuid": "79da507d43e92c9a592475860c49e0adaeb596f7"
   },
   "outputs": [],
   "source": [
    "Y_pred = best_model.predict(df_test)"
   ]
  },
  {
   "cell_type": "code",
   "execution_count": 31,
   "metadata": {
    "_uuid": "ec636b11eb484698ef15a984c0ce98cd9b0d234a"
   },
   "outputs": [],
   "source": [
    "results = pd.DataFrame(data={'Classification' : Y_pred, 'id' : Y_id})"
   ]
  },
  {
   "cell_type": "code",
   "execution_count": 32,
   "metadata": {
    "_uuid": "9652110d63a5b73be42a67d132323bfdba466138"
   },
   "outputs": [],
   "source": [
    "results.to_csv('result.csv', index=False)"
   ]
  }
 ],
 "metadata": {
  "kernelspec": {
   "display_name": "Python 3",
   "language": "python",
   "name": "python3"
  },
  "language_info": {
   "codemirror_mode": {
    "name": "ipython",
    "version": 3
   },
   "file_extension": ".py",
   "mimetype": "text/x-python",
   "name": "python",
   "nbconvert_exporter": "python",
   "pygments_lexer": "ipython3",
   "version": "3.6.6"
  }
 },
 "nbformat": 4,
 "nbformat_minor": 1
}
