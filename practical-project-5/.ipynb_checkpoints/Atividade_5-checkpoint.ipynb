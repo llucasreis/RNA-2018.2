{
 "cells": [
  {
   "cell_type": "code",
   "execution_count": 1,
   "metadata": {
    "_cell_guid": "b1076dfc-b9ad-4769-8c92-a6c4dae69d19",
    "_uuid": "8f2839f25d086af736a60e9eeb907d3b93b6e0e5"
   },
   "outputs": [],
   "source": [
    "import numpy as np\n",
    "import pandas as pd\n",
    "from math import *\n",
    "from sklearn.neural_network import MLPClassifier\n",
    "from sklearn.model_selection import train_test_split, GridSearchCV\n",
    "from sklearn.metrics import f1_score\n",
    "import itertools"
   ]
  },
  {
   "cell_type": "code",
   "execution_count": 2,
   "metadata": {
    "_uuid": "6f832d47556c348a38f1d30db1d13ef949bbe2fa"
   },
   "outputs": [],
   "source": [
    "def partitions(n, condition_to_insert = None):\n",
    "    assert isinstance(n, int), 'n must be an integer'\n",
    "    assert n > 0, 'n must be a natural number but zero.'\n",
    "\n",
    "    if(condition_to_insert is None):\n",
    "        condition_to_insert = lambda partition: True\n",
    "\n",
    "    a = list(range(n+1))\n",
    "    tuples = []\n",
    "\n",
    "    for m in range(2, n+1):\n",
    "        a[m] = 1\n",
    "\n",
    "    m = 1\n",
    "    a[0] = 0\n",
    "\n",
    "    while(True):\n",
    "\n",
    "        a[m] = n\n",
    "        q = m - int(n == 1)\n",
    "\n",
    "        while(True):\n",
    "            partition = tuple(a[1:m+1])\n",
    "\n",
    "            if(condition_to_insert(partition)):\n",
    "                permutations = list(set(list(itertools.permutations(partition))))\n",
    "                tuples += permutations\n",
    "\n",
    "            if(a[q] != 2):\n",
    "                break\n",
    "\n",
    "            a[q] = 1\n",
    "            q -= 1\n",
    "            m += 1\n",
    "\n",
    "        if(q == 0):\n",
    "            break\n",
    "\n",
    "        x = a[q] - 1\n",
    "        a[q] = x\n",
    "        n = m - q + 1\n",
    "        m = q + 1\n",
    "\n",
    "        while(n > x):\n",
    "\n",
    "            a[m] = x\n",
    "            m += 1\n",
    "            n -= x\n",
    "\n",
    "    return tuples"
   ]
  },
  {
   "cell_type": "code",
   "execution_count": 3,
   "metadata": {
    "_cell_guid": "79c7e3d0-c299-4dcb-8224-4455121ee9b0",
    "_uuid": "d629ff2d2480ee46fbb7e2d37f6b5fab8052498a"
   },
   "outputs": [],
   "source": [
    "df_train = pd.read_csv(\"train.csv\")\n",
    "df_test = pd.read_csv(\"test.csv\")"
   ]
  },
  {
   "cell_type": "code",
   "execution_count": 4,
   "metadata": {
    "_uuid": "531597877e17cb463186b2f51ffaa55fd7b68b65"
   },
   "outputs": [],
   "source": [
    "Y_id = df_test.id\n",
    "df_train.drop(['id'],axis=1,inplace=True)\n",
    "df_test.drop(['id'],axis=1,inplace=True)"
   ]
  },
  {
   "cell_type": "code",
   "execution_count": 5,
   "metadata": {
    "_uuid": "575e7b161ca3ac090bd4c849c52218e6a573786c"
   },
   "outputs": [],
   "source": [
    "input_neurons_amount, output_neurons_amount = len(df_train.columns), 2"
   ]
  },
  {
   "cell_type": "code",
   "execution_count": 6,
   "metadata": {
    "_uuid": "e1e8af0218b817b0feb781f3973e06f3a2b89267"
   },
   "outputs": [],
   "source": [
    "def hidden_neurons_amount(alpha):\n",
    "    return alpha * sqrt(input_neurons_amount * output_neurons_amount)\n",
    "\n",
    "def condition_to_insert(partition):\n",
    "    return len(partition) <= 2"
   ]
  },
  {
   "cell_type": "code",
   "execution_count": 7,
   "metadata": {
    "_uuid": "f953197aa0b27eccb6fc54e97221291a3dd99730"
   },
   "outputs": [],
   "source": [
    "alpha = [0.5, 2, 3]\n",
    "hidden_neurons_amounts = [ceil(hidden_neurons_amount(a)) for a in alpha]\n",
    "hidden_layer_sizes = []\n",
    "\n",
    "for n in hidden_neurons_amounts:\n",
    "    tuples = partitions(n, condition_to_insert)\n",
    "    hidden_layer_sizes += tuples"
   ]
  },
  {
   "cell_type": "code",
   "execution_count": 8,
   "metadata": {
    "_uuid": "2f6cd426e648600a17bef8565c17930f26fac5d1"
   },
   "outputs": [],
   "source": [
    "params = {\n",
    "    'activation': ['identity', 'logistic','tanh','relu'],\n",
    "    'hidden_layer_sizes': hidden_layer_sizes,\n",
    "    'solver': ['lbfgs']\n",
    "}"
   ]
  },
  {
   "cell_type": "code",
   "execution_count": 9,
   "metadata": {
    "_uuid": "32369fd2c2efec27260a12c8d3962dca63084205"
   },
   "outputs": [],
   "source": [
    "gs = GridSearchCV(MLPClassifier(), params, cv=3, scoring='f1_micro', return_train_score=False)"
   ]
  },
  {
   "cell_type": "code",
   "execution_count": 10,
   "metadata": {
    "_uuid": "c6a24a6dde67788ef632e7a73c6a3ad35dac6d3b"
   },
   "outputs": [],
   "source": [
    "Y_train = df_train.Classification\n",
    "X_train = df_train.drop(['Classification'],axis=1)"
   ]
  },
  {
   "cell_type": "code",
   "execution_count": 11,
   "metadata": {
    "_uuid": "bbebf8b8191952458689105ff419b0727a51dfa5"
   },
   "outputs": [],
   "source": [
    "gs.fit(X_train, Y_train);"
   ]
  },
  {
   "cell_type": "code",
   "execution_count": 12,
   "metadata": {
    "_uuid": "cc36843108c18084f58ba73cc96b70d84200038a"
   },
   "outputs": [],
   "source": [
    "best_model = gs.best_estimator_"
   ]
  },
  {
   "cell_type": "code",
   "execution_count": 13,
   "metadata": {
    "_uuid": "79da507d43e92c9a592475860c49e0adaeb596f7"
   },
   "outputs": [],
   "source": [
    "Y_pred = best_model.predict(df_test)"
   ]
  },
  {
   "cell_type": "code",
   "execution_count": 14,
   "metadata": {
    "_uuid": "ec636b11eb484698ef15a984c0ce98cd9b0d234a"
   },
   "outputs": [],
   "source": [
    "results = pd.DataFrame(data={'Classification' : Y_pred, 'id' : Y_id})"
   ]
  },
  {
   "cell_type": "code",
   "execution_count": 15,
   "metadata": {
    "_uuid": "9652110d63a5b73be42a67d132323bfdba466138"
   },
   "outputs": [],
   "source": [
    "results.to_csv('result.csv', index=False)"
   ]
  },
  {
   "cell_type": "code",
   "execution_count": 16,
   "metadata": {
    "_uuid": "e2c77422d78daff7b2983d4076ebedb4753bf75d"
   },
   "outputs": [
    {
     "data": {
      "text/html": [
       "<div>\n",
       "<style scoped>\n",
       "    .dataframe tbody tr th:only-of-type {\n",
       "        vertical-align: middle;\n",
       "    }\n",
       "\n",
       "    .dataframe tbody tr th {\n",
       "        vertical-align: top;\n",
       "    }\n",
       "\n",
       "    .dataframe thead th {\n",
       "        text-align: right;\n",
       "    }\n",
       "</style>\n",
       "<table border=\"1\" class=\"dataframe\">\n",
       "  <thead>\n",
       "    <tr style=\"text-align: right;\">\n",
       "      <th></th>\n",
       "      <th>Classification</th>\n",
       "      <th>id</th>\n",
       "    </tr>\n",
       "  </thead>\n",
       "  <tbody>\n",
       "    <tr>\n",
       "      <th>0</th>\n",
       "      <td>2</td>\n",
       "      <td>100</td>\n",
       "    </tr>\n",
       "    <tr>\n",
       "      <th>1</th>\n",
       "      <td>1</td>\n",
       "      <td>78</td>\n",
       "    </tr>\n",
       "    <tr>\n",
       "      <th>2</th>\n",
       "      <td>1</td>\n",
       "      <td>77</td>\n",
       "    </tr>\n",
       "    <tr>\n",
       "      <th>3</th>\n",
       "      <td>2</td>\n",
       "      <td>113</td>\n",
       "    </tr>\n",
       "    <tr>\n",
       "      <th>4</th>\n",
       "      <td>1</td>\n",
       "      <td>86</td>\n",
       "    </tr>\n",
       "    <tr>\n",
       "      <th>5</th>\n",
       "      <td>1</td>\n",
       "      <td>84</td>\n",
       "    </tr>\n",
       "    <tr>\n",
       "      <th>6</th>\n",
       "      <td>2</td>\n",
       "      <td>89</td>\n",
       "    </tr>\n",
       "    <tr>\n",
       "      <th>7</th>\n",
       "      <td>2</td>\n",
       "      <td>56</td>\n",
       "    </tr>\n",
       "    <tr>\n",
       "      <th>8</th>\n",
       "      <td>2</td>\n",
       "      <td>31</td>\n",
       "    </tr>\n",
       "    <tr>\n",
       "      <th>9</th>\n",
       "      <td>2</td>\n",
       "      <td>48</td>\n",
       "    </tr>\n",
       "    <tr>\n",
       "      <th>10</th>\n",
       "      <td>2</td>\n",
       "      <td>112</td>\n",
       "    </tr>\n",
       "    <tr>\n",
       "      <th>11</th>\n",
       "      <td>2</td>\n",
       "      <td>36</td>\n",
       "    </tr>\n",
       "    <tr>\n",
       "      <th>12</th>\n",
       "      <td>2</td>\n",
       "      <td>21</td>\n",
       "    </tr>\n",
       "    <tr>\n",
       "      <th>13</th>\n",
       "      <td>2</td>\n",
       "      <td>11</td>\n",
       "    </tr>\n",
       "    <tr>\n",
       "      <th>14</th>\n",
       "      <td>1</td>\n",
       "      <td>76</td>\n",
       "    </tr>\n",
       "    <tr>\n",
       "      <th>15</th>\n",
       "      <td>2</td>\n",
       "      <td>71</td>\n",
       "    </tr>\n",
       "    <tr>\n",
       "      <th>16</th>\n",
       "      <td>2</td>\n",
       "      <td>53</td>\n",
       "    </tr>\n",
       "    <tr>\n",
       "      <th>17</th>\n",
       "      <td>1</td>\n",
       "      <td>63</td>\n",
       "    </tr>\n",
       "    <tr>\n",
       "      <th>18</th>\n",
       "      <td>2</td>\n",
       "      <td>60</td>\n",
       "    </tr>\n",
       "    <tr>\n",
       "      <th>19</th>\n",
       "      <td>1</td>\n",
       "      <td>98</td>\n",
       "    </tr>\n",
       "    <tr>\n",
       "      <th>20</th>\n",
       "      <td>2</td>\n",
       "      <td>14</td>\n",
       "    </tr>\n",
       "    <tr>\n",
       "      <th>21</th>\n",
       "      <td>2</td>\n",
       "      <td>59</td>\n",
       "    </tr>\n",
       "    <tr>\n",
       "      <th>22</th>\n",
       "      <td>1</td>\n",
       "      <td>58</td>\n",
       "    </tr>\n",
       "    <tr>\n",
       "      <th>23</th>\n",
       "      <td>1</td>\n",
       "      <td>85</td>\n",
       "    </tr>\n",
       "  </tbody>\n",
       "</table>\n",
       "</div>"
      ],
      "text/plain": [
       "    Classification   id\n",
       "0                2  100\n",
       "1                1   78\n",
       "2                1   77\n",
       "3                2  113\n",
       "4                1   86\n",
       "5                1   84\n",
       "6                2   89\n",
       "7                2   56\n",
       "8                2   31\n",
       "9                2   48\n",
       "10               2  112\n",
       "11               2   36\n",
       "12               2   21\n",
       "13               2   11\n",
       "14               1   76\n",
       "15               2   71\n",
       "16               2   53\n",
       "17               1   63\n",
       "18               2   60\n",
       "19               1   98\n",
       "20               2   14\n",
       "21               2   59\n",
       "22               1   58\n",
       "23               1   85"
      ]
     },
     "execution_count": 16,
     "metadata": {},
     "output_type": "execute_result"
    }
   ],
   "source": [
    "pd.read_csv('result.csv')"
   ]
  },
  {
   "cell_type": "code",
   "execution_count": null,
   "metadata": {
    "_uuid": "2e2314387daf402ed834df037d56710e3df9498b"
   },
   "outputs": [],
   "source": []
  }
 ],
 "metadata": {
  "kernelspec": {
   "display_name": "Python 3",
   "language": "python",
   "name": "python3"
  },
  "language_info": {
   "codemirror_mode": {
    "name": "ipython",
    "version": 3
   },
   "file_extension": ".py",
   "mimetype": "text/x-python",
   "name": "python",
   "nbconvert_exporter": "python",
   "pygments_lexer": "ipython3",
   "version": "3.6.6"
  }
 },
 "nbformat": 4,
 "nbformat_minor": 1
}
