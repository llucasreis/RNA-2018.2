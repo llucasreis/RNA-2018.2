{
 "cells": [
  {
   "cell_type": "markdown",
   "metadata": {},
   "source": [
    "# Projeto Prático 1.1 -- Explorando Dados\n",
    "\n",
    "O projeto prático 1.1 da disciplina de Redes Neurais Artificiais deve ser desenvolvido em duplas justas. A ideia geral é seguir o passo a passo das atividades solicitadas para aprender a utilizar as bibliotecas Python para praticar os conceitos de exploração de dados vistos ao longo dessas primeiras aulas.\n",
    "\n",
    "Na avaliação será levado em conta:\n",
    "1. Corretude das tarefas solicitadas\n",
    "2. Qualidade e boas práticas de codificação\n",
    "3. Eficiência na manipulação dos dados\n",
    "\n",
    "\n",
    "Preecha aqui os integrantes da dupla e suas respectivas matrículas (duplo clique para editar):\n",
    "- Felipe Getúlio Laranjeira do Nascimento 1515080534\n",
    "- Lucas Pereira Reis 1515080583\n",
    "\n",
    "## Apresentação da Atividade\n",
    "\n",
    "Vamos aprender um pouco mais sobre carros! Para tanto, vamos utilizar o [dataset AutoMPG](https://archive.ics.uci.edu/ml/datasets/auto+mpg), que contém informações de veículos do ano de 1983 apresentados em uma exposição nos EUA. O atributo alvo chama-se mpg, denotando milhas por galão, uma unidade de medida equivalente ao nosso quilômetro por litro."
   ]
  },
  {
   "cell_type": "code",
   "execution_count": 1,
   "metadata": {},
   "outputs": [],
   "source": [
    "import numpy as np\n",
    "import pandas as pd\n",
    "import matplotlib.pyplot as plt\n",
    "from scipy.stats import kurtosis, skew\n",
    "from sklearn.model_selection import train_test_split\n",
    "import seaborn as sns"
   ]
  },
  {
   "cell_type": "markdown",
   "metadata": {},
   "source": [
    "## Tarefa 1: Abrir o dataset\n",
    "\n",
    "1. Baixe o arquivo 'autompg.csv' do Google Classroom e o abra com a biblioteca pandas\n",
    "2. Imprima o cabeçalho do dataset\n",
    "3. Imprima os tipos de dados no dataset"
   ]
  },
  {
   "cell_type": "code",
   "execution_count": 2,
   "metadata": {},
   "outputs": [],
   "source": [
    "df = pd.read_csv('autompg.csv', delimiter=';')"
   ]
  },
  {
   "cell_type": "code",
   "execution_count": 3,
   "metadata": {},
   "outputs": [
    {
     "data": {
      "text/html": [
       "<div>\n",
       "<style scoped>\n",
       "    .dataframe tbody tr th:only-of-type {\n",
       "        vertical-align: middle;\n",
       "    }\n",
       "\n",
       "    .dataframe tbody tr th {\n",
       "        vertical-align: top;\n",
       "    }\n",
       "\n",
       "    .dataframe thead th {\n",
       "        text-align: right;\n",
       "    }\n",
       "</style>\n",
       "<table border=\"1\" class=\"dataframe\">\n",
       "  <thead>\n",
       "    <tr style=\"text-align: right;\">\n",
       "      <th></th>\n",
       "      <th>mpg</th>\n",
       "      <th>cylinders</th>\n",
       "      <th>displacement</th>\n",
       "      <th>horsepower</th>\n",
       "      <th>weight</th>\n",
       "      <th>acceleration</th>\n",
       "      <th>modelyear</th>\n",
       "      <th>origin</th>\n",
       "      <th>name</th>\n",
       "    </tr>\n",
       "  </thead>\n",
       "  <tbody>\n",
       "    <tr>\n",
       "      <th>0</th>\n",
       "      <td>18.0</td>\n",
       "      <td>8.0</td>\n",
       "      <td>307.0</td>\n",
       "      <td>130.0</td>\n",
       "      <td>3504.0</td>\n",
       "      <td>12.0</td>\n",
       "      <td>70.0</td>\n",
       "      <td>1.0</td>\n",
       "      <td>chevrolet chevelle malibu</td>\n",
       "    </tr>\n",
       "    <tr>\n",
       "      <th>1</th>\n",
       "      <td>15.0</td>\n",
       "      <td>8.0</td>\n",
       "      <td>350.0</td>\n",
       "      <td>165.0</td>\n",
       "      <td>3693.0</td>\n",
       "      <td>11.5</td>\n",
       "      <td>70.0</td>\n",
       "      <td>1.0</td>\n",
       "      <td>buick skylark 320</td>\n",
       "    </tr>\n",
       "    <tr>\n",
       "      <th>2</th>\n",
       "      <td>18.0</td>\n",
       "      <td>8.0</td>\n",
       "      <td>318.0</td>\n",
       "      <td>150.0</td>\n",
       "      <td>3436.0</td>\n",
       "      <td>11.0</td>\n",
       "      <td>70.0</td>\n",
       "      <td>1.0</td>\n",
       "      <td>plymouth satellite</td>\n",
       "    </tr>\n",
       "    <tr>\n",
       "      <th>3</th>\n",
       "      <td>16.0</td>\n",
       "      <td>8.0</td>\n",
       "      <td>304.0</td>\n",
       "      <td>150.0</td>\n",
       "      <td>3433.0</td>\n",
       "      <td>12.0</td>\n",
       "      <td>70.0</td>\n",
       "      <td>1.0</td>\n",
       "      <td>amc rebel sst</td>\n",
       "    </tr>\n",
       "    <tr>\n",
       "      <th>4</th>\n",
       "      <td>17.0</td>\n",
       "      <td>8.0</td>\n",
       "      <td>302.0</td>\n",
       "      <td>140.0</td>\n",
       "      <td>3449.0</td>\n",
       "      <td>10.5</td>\n",
       "      <td>70.0</td>\n",
       "      <td>1.0</td>\n",
       "      <td>ford torino</td>\n",
       "    </tr>\n",
       "  </tbody>\n",
       "</table>\n",
       "</div>"
      ],
      "text/plain": [
       "    mpg  cylinders  displacement  horsepower  weight  acceleration  modelyear  \\\n",
       "0  18.0        8.0         307.0       130.0  3504.0          12.0       70.0   \n",
       "1  15.0        8.0         350.0       165.0  3693.0          11.5       70.0   \n",
       "2  18.0        8.0         318.0       150.0  3436.0          11.0       70.0   \n",
       "3  16.0        8.0         304.0       150.0  3433.0          12.0       70.0   \n",
       "4  17.0        8.0         302.0       140.0  3449.0          10.5       70.0   \n",
       "\n",
       "   origin                       name  \n",
       "0     1.0  chevrolet chevelle malibu  \n",
       "1     1.0          buick skylark 320  \n",
       "2     1.0         plymouth satellite  \n",
       "3     1.0              amc rebel sst  \n",
       "4     1.0                ford torino  "
      ]
     },
     "execution_count": 3,
     "metadata": {},
     "output_type": "execute_result"
    }
   ],
   "source": [
    "df.head()"
   ]
  },
  {
   "cell_type": "code",
   "execution_count": 4,
   "metadata": {},
   "outputs": [
    {
     "data": {
      "text/plain": [
       "mpg             float64\n",
       "cylinders       float64\n",
       "displacement    float64\n",
       "horsepower      float64\n",
       "weight          float64\n",
       "acceleration    float64\n",
       "modelyear       float64\n",
       "origin          float64\n",
       "name             object\n",
       "dtype: object"
      ]
     },
     "execution_count": 4,
     "metadata": {},
     "output_type": "execute_result"
    }
   ],
   "source": [
    "df.dtypes"
   ]
  },
  {
   "cell_type": "markdown",
   "metadata": {},
   "source": [
    "## Tarefa 2: Conhecendo e limpando os dados\n",
    "\n",
    "1. Imprima os nomes das colunas do datase\n",
    "2. Quantos exemplos o dataset possui?\n",
    "3. Quantos exemplos com dados faltantes o dataset possui?\n",
    "4. Efetue a limpeza do dataset excluindo todos os exemplos em que há alguma informação faltando. Daqui em diante, considere essa versão do dataset."
   ]
  },
  {
   "cell_type": "code",
   "execution_count": 5,
   "metadata": {},
   "outputs": [
    {
     "data": {
      "text/plain": [
       "Index(['mpg', 'cylinders', 'displacement', 'horsepower', 'weight',\n",
       "       'acceleration', 'modelyear', 'origin', 'name'],\n",
       "      dtype='object')"
      ]
     },
     "execution_count": 5,
     "metadata": {},
     "output_type": "execute_result"
    }
   ],
   "source": [
    "df.columns"
   ]
  },
  {
   "cell_type": "code",
   "execution_count": 6,
   "metadata": {},
   "outputs": [
    {
     "data": {
      "text/plain": [
       "406"
      ]
     },
     "execution_count": 6,
     "metadata": {},
     "output_type": "execute_result"
    }
   ],
   "source": [
    "len(df)"
   ]
  },
  {
   "cell_type": "code",
   "execution_count": 7,
   "metadata": {},
   "outputs": [
    {
     "data": {
      "text/plain": [
       "14"
      ]
     },
     "execution_count": 7,
     "metadata": {},
     "output_type": "execute_result"
    }
   ],
   "source": [
    "df.isnull().values.sum()"
   ]
  },
  {
   "cell_type": "code",
   "execution_count": 8,
   "metadata": {},
   "outputs": [],
   "source": [
    "df.dropna(inplace=True)"
   ]
  },
  {
   "cell_type": "markdown",
   "metadata": {},
   "source": [
    "## Tarefa 3: Consulta aos dados\n",
    "\n",
    "1. Calcule a média do atributo alvo mpg\n",
    "2. Imprima o nome dos carros cujo consumo (mpg) é maior que a média\n",
    "3. Qual o carro mais eficiente (maior mpg)?\n",
    "4. Quantos carros foram fabricados após 1977?\n",
    "5. Qual a cilindrada média dos carros fabricados entre 1980 e 1982?\n",
    "6. Há quantos carros da marca Chevrolet no dataset? Imprima todas as características dos mesmos."
   ]
  },
  {
   "cell_type": "code",
   "execution_count": 9,
   "metadata": {},
   "outputs": [
    {
     "data": {
      "text/plain": [
       "23.44591836734694"
      ]
     },
     "execution_count": 9,
     "metadata": {},
     "output_type": "execute_result"
    }
   ],
   "source": [
    "df['mpg'].mean()"
   ]
  },
  {
   "cell_type": "code",
   "execution_count": 10,
   "metadata": {},
   "outputs": [
    {
     "data": {
      "text/plain": [
       "20                 toyota corona mark ii\n",
       "24                          datsun pl510\n",
       "25          volkswagen 1131 deluxe sedan\n",
       "26                           peugeot 504\n",
       "27                           audi 100 ls\n",
       "28                              saab 99e\n",
       "29                              bmw 2002\n",
       "35                          datsun pl510\n",
       "36                   chevrolet vega 2300\n",
       "37                         toyota corona\n",
       "57                             opel 1900\n",
       "58                           peugeot 304\n",
       "59                             fiat 124b\n",
       "60                   toyota corolla 1200\n",
       "61                           datsun 1200\n",
       "62                  volkswagen model 111\n",
       "63                      plymouth cricket\n",
       "64                 toyota corona hardtop\n",
       "65                    dodge colt hardtop\n",
       "86                       renault 12 (sw)\n",
       "88                       datsun 510 (sw)\n",
       "90                       dodge colt (sw)\n",
       "91              toyota corolla 1600 (sw)\n",
       "109              volkswagen super beetle\n",
       "121                 fiat 124 sport coupe\n",
       "124                             fiat 128\n",
       "125                           opel manta\n",
       "129                            saab 99le\n",
       "136                          datsun b210\n",
       "137                           ford pinto\n",
       "                     ...                \n",
       "372                oldsmobile cutlass ls\n",
       "375                   chevrolet cavalier\n",
       "376             chevrolet cavalier wagon\n",
       "377            chevrolet cavalier 2-door\n",
       "378           pontiac j2000 se hatchback\n",
       "379                       dodge aries se\n",
       "380                      pontiac phoenix\n",
       "381                 ford fairmont futura\n",
       "383                  volkswagen rabbit l\n",
       "384                   mazda glc custom l\n",
       "385                     mazda glc custom\n",
       "386               plymouth horizon miser\n",
       "387                       mercury lynx l\n",
       "388                     nissan stanza xe\n",
       "389                         honda accord\n",
       "390                       toyota corolla\n",
       "391                          honda civic\n",
       "392                   honda civic (auto)\n",
       "393                        datsun 310 gx\n",
       "394                buick century limited\n",
       "395    oldsmobile cutlass ciera (diesel)\n",
       "396           chrysler lebaron medallion\n",
       "398                     toyota celica gt\n",
       "399                    dodge charger 2.2\n",
       "400                     chevrolet camaro\n",
       "401                      ford mustang gl\n",
       "402                            vw pickup\n",
       "403                        dodge rampage\n",
       "404                          ford ranger\n",
       "405                           chevy s-10\n",
       "Name: name, Length: 186, dtype: object"
      ]
     },
     "execution_count": 10,
     "metadata": {},
     "output_type": "execute_result"
    }
   ],
   "source": [
    "df['name'].loc[df['mpg'] > df['mpg'].mean()]"
   ]
  },
  {
   "cell_type": "code",
   "execution_count": 11,
   "metadata": {},
   "outputs": [
    {
     "data": {
      "text/plain": [
       "329    mazda glc\n",
       "Name: name, dtype: object"
      ]
     },
     "execution_count": 11,
     "metadata": {},
     "output_type": "execute_result"
    }
   ],
   "source": [
    "df['name'].loc[df['mpg'] == max(df['mpg'].values)]"
   ]
  },
  {
   "cell_type": "code",
   "execution_count": 12,
   "metadata": {},
   "outputs": [
    {
     "data": {
      "text/plain": [
       "150"
      ]
     },
     "execution_count": 12,
     "metadata": {},
     "output_type": "execute_result"
    }
   ],
   "source": [
    "len(df.loc[df['modelyear'] > 77.0])"
   ]
  },
  {
   "cell_type": "code",
   "execution_count": 13,
   "metadata": {},
   "outputs": [
    {
     "data": {
      "text/plain": [
       "4.329411764705882"
      ]
     },
     "execution_count": 13,
     "metadata": {},
     "output_type": "execute_result"
    }
   ],
   "source": [
    "df_modelyear = df.loc[(df['modelyear'] >= 80.0) & (df['modelyear'] <= 82.0)]\n",
    "df_modelyear['cylinders'].mean()"
   ]
  },
  {
   "cell_type": "code",
   "execution_count": 14,
   "metadata": {},
   "outputs": [
    {
     "data": {
      "text/plain": [
       "43"
      ]
     },
     "execution_count": 14,
     "metadata": {},
     "output_type": "execute_result"
    }
   ],
   "source": [
    "#Quantidade de carros da marca Chevrolet\n",
    "len(df[df['name'].str.match('chevrolet')])"
   ]
  },
  {
   "cell_type": "code",
   "execution_count": 15,
   "metadata": {},
   "outputs": [
    {
     "data": {
      "text/html": [
       "<div>\n",
       "<style scoped>\n",
       "    .dataframe tbody tr th:only-of-type {\n",
       "        vertical-align: middle;\n",
       "    }\n",
       "\n",
       "    .dataframe tbody tr th {\n",
       "        vertical-align: top;\n",
       "    }\n",
       "\n",
       "    .dataframe thead th {\n",
       "        text-align: right;\n",
       "    }\n",
       "</style>\n",
       "<table border=\"1\" class=\"dataframe\">\n",
       "  <thead>\n",
       "    <tr style=\"text-align: right;\">\n",
       "      <th></th>\n",
       "      <th>mpg</th>\n",
       "      <th>cylinders</th>\n",
       "      <th>displacement</th>\n",
       "      <th>horsepower</th>\n",
       "      <th>weight</th>\n",
       "      <th>acceleration</th>\n",
       "      <th>modelyear</th>\n",
       "      <th>origin</th>\n",
       "      <th>name</th>\n",
       "    </tr>\n",
       "  </thead>\n",
       "  <tbody>\n",
       "    <tr>\n",
       "      <th>0</th>\n",
       "      <td>18.0</td>\n",
       "      <td>8.0</td>\n",
       "      <td>307.0</td>\n",
       "      <td>130.0</td>\n",
       "      <td>3504.0</td>\n",
       "      <td>12.0</td>\n",
       "      <td>70.0</td>\n",
       "      <td>1.0</td>\n",
       "      <td>chevrolet chevelle malibu</td>\n",
       "    </tr>\n",
       "    <tr>\n",
       "      <th>6</th>\n",
       "      <td>14.0</td>\n",
       "      <td>8.0</td>\n",
       "      <td>454.0</td>\n",
       "      <td>220.0</td>\n",
       "      <td>4354.0</td>\n",
       "      <td>9.0</td>\n",
       "      <td>70.0</td>\n",
       "      <td>1.0</td>\n",
       "      <td>chevrolet impala</td>\n",
       "    </tr>\n",
       "    <tr>\n",
       "      <th>18</th>\n",
       "      <td>15.0</td>\n",
       "      <td>8.0</td>\n",
       "      <td>400.0</td>\n",
       "      <td>150.0</td>\n",
       "      <td>3761.0</td>\n",
       "      <td>9.5</td>\n",
       "      <td>70.0</td>\n",
       "      <td>1.0</td>\n",
       "      <td>chevrolet monte carlo</td>\n",
       "    </tr>\n",
       "    <tr>\n",
       "      <th>36</th>\n",
       "      <td>28.0</td>\n",
       "      <td>4.0</td>\n",
       "      <td>140.0</td>\n",
       "      <td>90.0</td>\n",
       "      <td>2264.0</td>\n",
       "      <td>15.5</td>\n",
       "      <td>71.0</td>\n",
       "      <td>1.0</td>\n",
       "      <td>chevrolet vega 2300</td>\n",
       "    </tr>\n",
       "    <tr>\n",
       "      <th>42</th>\n",
       "      <td>17.0</td>\n",
       "      <td>6.0</td>\n",
       "      <td>250.0</td>\n",
       "      <td>100.0</td>\n",
       "      <td>3329.0</td>\n",
       "      <td>15.5</td>\n",
       "      <td>71.0</td>\n",
       "      <td>1.0</td>\n",
       "      <td>chevrolet chevelle malibu</td>\n",
       "    </tr>\n",
       "    <tr>\n",
       "      <th>45</th>\n",
       "      <td>14.0</td>\n",
       "      <td>8.0</td>\n",
       "      <td>350.0</td>\n",
       "      <td>165.0</td>\n",
       "      <td>4209.0</td>\n",
       "      <td>12.0</td>\n",
       "      <td>71.0</td>\n",
       "      <td>1.0</td>\n",
       "      <td>chevrolet impala</td>\n",
       "    </tr>\n",
       "    <tr>\n",
       "      <th>53</th>\n",
       "      <td>22.0</td>\n",
       "      <td>4.0</td>\n",
       "      <td>140.0</td>\n",
       "      <td>72.0</td>\n",
       "      <td>2408.0</td>\n",
       "      <td>19.0</td>\n",
       "      <td>71.0</td>\n",
       "      <td>1.0</td>\n",
       "      <td>chevrolet vega (sw)</td>\n",
       "    </tr>\n",
       "    <tr>\n",
       "      <th>67</th>\n",
       "      <td>20.0</td>\n",
       "      <td>4.0</td>\n",
       "      <td>140.0</td>\n",
       "      <td>90.0</td>\n",
       "      <td>2408.0</td>\n",
       "      <td>19.5</td>\n",
       "      <td>72.0</td>\n",
       "      <td>1.0</td>\n",
       "      <td>chevrolet vega</td>\n",
       "    </tr>\n",
       "    <tr>\n",
       "      <th>69</th>\n",
       "      <td>13.0</td>\n",
       "      <td>8.0</td>\n",
       "      <td>350.0</td>\n",
       "      <td>165.0</td>\n",
       "      <td>4274.0</td>\n",
       "      <td>12.0</td>\n",
       "      <td>72.0</td>\n",
       "      <td>1.0</td>\n",
       "      <td>chevrolet impala</td>\n",
       "    </tr>\n",
       "    <tr>\n",
       "      <th>80</th>\n",
       "      <td>13.0</td>\n",
       "      <td>8.0</td>\n",
       "      <td>307.0</td>\n",
       "      <td>130.0</td>\n",
       "      <td>4098.0</td>\n",
       "      <td>14.0</td>\n",
       "      <td>72.0</td>\n",
       "      <td>1.0</td>\n",
       "      <td>chevrolet chevelle concours (sw)</td>\n",
       "    </tr>\n",
       "    <tr>\n",
       "      <th>94</th>\n",
       "      <td>13.0</td>\n",
       "      <td>8.0</td>\n",
       "      <td>350.0</td>\n",
       "      <td>145.0</td>\n",
       "      <td>3988.0</td>\n",
       "      <td>13.0</td>\n",
       "      <td>73.0</td>\n",
       "      <td>1.0</td>\n",
       "      <td>chevrolet malibu</td>\n",
       "    </tr>\n",
       "    <tr>\n",
       "      <th>98</th>\n",
       "      <td>13.0</td>\n",
       "      <td>8.0</td>\n",
       "      <td>400.0</td>\n",
       "      <td>150.0</td>\n",
       "      <td>4464.0</td>\n",
       "      <td>12.0</td>\n",
       "      <td>73.0</td>\n",
       "      <td>1.0</td>\n",
       "      <td>chevrolet caprice classic</td>\n",
       "    </tr>\n",
       "    <tr>\n",
       "      <th>105</th>\n",
       "      <td>16.0</td>\n",
       "      <td>6.0</td>\n",
       "      <td>250.0</td>\n",
       "      <td>100.0</td>\n",
       "      <td>3278.0</td>\n",
       "      <td>18.0</td>\n",
       "      <td>73.0</td>\n",
       "      <td>1.0</td>\n",
       "      <td>chevrolet nova custom</td>\n",
       "    </tr>\n",
       "    <tr>\n",
       "      <th>110</th>\n",
       "      <td>11.0</td>\n",
       "      <td>8.0</td>\n",
       "      <td>400.0</td>\n",
       "      <td>150.0</td>\n",
       "      <td>4997.0</td>\n",
       "      <td>14.0</td>\n",
       "      <td>73.0</td>\n",
       "      <td>1.0</td>\n",
       "      <td>chevrolet impala</td>\n",
       "    </tr>\n",
       "    <tr>\n",
       "      <th>116</th>\n",
       "      <td>21.0</td>\n",
       "      <td>4.0</td>\n",
       "      <td>140.0</td>\n",
       "      <td>72.0</td>\n",
       "      <td>2401.0</td>\n",
       "      <td>19.5</td>\n",
       "      <td>73.0</td>\n",
       "      <td>1.0</td>\n",
       "      <td>chevrolet vega</td>\n",
       "    </tr>\n",
       "    <tr>\n",
       "      <th>122</th>\n",
       "      <td>15.0</td>\n",
       "      <td>8.0</td>\n",
       "      <td>350.0</td>\n",
       "      <td>145.0</td>\n",
       "      <td>4082.0</td>\n",
       "      <td>13.0</td>\n",
       "      <td>73.0</td>\n",
       "      <td>1.0</td>\n",
       "      <td>chevrolet monte carlo s</td>\n",
       "    </tr>\n",
       "    <tr>\n",
       "      <th>135</th>\n",
       "      <td>15.0</td>\n",
       "      <td>6.0</td>\n",
       "      <td>250.0</td>\n",
       "      <td>100.0</td>\n",
       "      <td>3336.0</td>\n",
       "      <td>17.0</td>\n",
       "      <td>74.0</td>\n",
       "      <td>1.0</td>\n",
       "      <td>chevrolet nova</td>\n",
       "    </tr>\n",
       "    <tr>\n",
       "      <th>139</th>\n",
       "      <td>25.0</td>\n",
       "      <td>4.0</td>\n",
       "      <td>140.0</td>\n",
       "      <td>75.0</td>\n",
       "      <td>2542.0</td>\n",
       "      <td>17.0</td>\n",
       "      <td>74.0</td>\n",
       "      <td>1.0</td>\n",
       "      <td>chevrolet vega</td>\n",
       "    </tr>\n",
       "    <tr>\n",
       "      <th>140</th>\n",
       "      <td>16.0</td>\n",
       "      <td>6.0</td>\n",
       "      <td>250.0</td>\n",
       "      <td>100.0</td>\n",
       "      <td>3781.0</td>\n",
       "      <td>17.0</td>\n",
       "      <td>74.0</td>\n",
       "      <td>1.0</td>\n",
       "      <td>chevrolet chevelle malibu classic</td>\n",
       "    </tr>\n",
       "    <tr>\n",
       "      <th>160</th>\n",
       "      <td>18.0</td>\n",
       "      <td>6.0</td>\n",
       "      <td>250.0</td>\n",
       "      <td>105.0</td>\n",
       "      <td>3459.0</td>\n",
       "      <td>16.0</td>\n",
       "      <td>75.0</td>\n",
       "      <td>1.0</td>\n",
       "      <td>chevrolet nova</td>\n",
       "    </tr>\n",
       "    <tr>\n",
       "      <th>164</th>\n",
       "      <td>15.0</td>\n",
       "      <td>8.0</td>\n",
       "      <td>350.0</td>\n",
       "      <td>145.0</td>\n",
       "      <td>4440.0</td>\n",
       "      <td>14.0</td>\n",
       "      <td>75.0</td>\n",
       "      <td>1.0</td>\n",
       "      <td>chevrolet bel air</td>\n",
       "    </tr>\n",
       "    <tr>\n",
       "      <th>172</th>\n",
       "      <td>20.0</td>\n",
       "      <td>8.0</td>\n",
       "      <td>262.0</td>\n",
       "      <td>110.0</td>\n",
       "      <td>3221.0</td>\n",
       "      <td>13.5</td>\n",
       "      <td>75.0</td>\n",
       "      <td>1.0</td>\n",
       "      <td>chevrolet monza 2+2</td>\n",
       "    </tr>\n",
       "    <tr>\n",
       "      <th>194</th>\n",
       "      <td>17.5</td>\n",
       "      <td>8.0</td>\n",
       "      <td>305.0</td>\n",
       "      <td>140.0</td>\n",
       "      <td>4215.0</td>\n",
       "      <td>13.0</td>\n",
       "      <td>76.0</td>\n",
       "      <td>1.0</td>\n",
       "      <td>chevrolet chevelle malibu classic</td>\n",
       "    </tr>\n",
       "    <tr>\n",
       "      <th>199</th>\n",
       "      <td>22.0</td>\n",
       "      <td>6.0</td>\n",
       "      <td>250.0</td>\n",
       "      <td>105.0</td>\n",
       "      <td>3353.0</td>\n",
       "      <td>14.5</td>\n",
       "      <td>76.0</td>\n",
       "      <td>1.0</td>\n",
       "      <td>chevrolet nova</td>\n",
       "    </tr>\n",
       "    <tr>\n",
       "      <th>202</th>\n",
       "      <td>29.0</td>\n",
       "      <td>4.0</td>\n",
       "      <td>85.0</td>\n",
       "      <td>52.0</td>\n",
       "      <td>2035.0</td>\n",
       "      <td>22.2</td>\n",
       "      <td>76.0</td>\n",
       "      <td>1.0</td>\n",
       "      <td>chevrolet chevette</td>\n",
       "    </tr>\n",
       "    <tr>\n",
       "      <th>203</th>\n",
       "      <td>24.5</td>\n",
       "      <td>4.0</td>\n",
       "      <td>98.0</td>\n",
       "      <td>60.0</td>\n",
       "      <td>2164.0</td>\n",
       "      <td>22.1</td>\n",
       "      <td>76.0</td>\n",
       "      <td>1.0</td>\n",
       "      <td>chevrolet woody</td>\n",
       "    </tr>\n",
       "    <tr>\n",
       "      <th>228</th>\n",
       "      <td>17.5</td>\n",
       "      <td>8.0</td>\n",
       "      <td>305.0</td>\n",
       "      <td>145.0</td>\n",
       "      <td>3880.0</td>\n",
       "      <td>12.5</td>\n",
       "      <td>77.0</td>\n",
       "      <td>1.0</td>\n",
       "      <td>chevrolet caprice classic</td>\n",
       "    </tr>\n",
       "    <tr>\n",
       "      <th>232</th>\n",
       "      <td>17.5</td>\n",
       "      <td>6.0</td>\n",
       "      <td>250.0</td>\n",
       "      <td>110.0</td>\n",
       "      <td>3520.0</td>\n",
       "      <td>16.4</td>\n",
       "      <td>77.0</td>\n",
       "      <td>1.0</td>\n",
       "      <td>chevrolet concours</td>\n",
       "    </tr>\n",
       "    <tr>\n",
       "      <th>237</th>\n",
       "      <td>15.5</td>\n",
       "      <td>8.0</td>\n",
       "      <td>350.0</td>\n",
       "      <td>170.0</td>\n",
       "      <td>4165.0</td>\n",
       "      <td>11.4</td>\n",
       "      <td>77.0</td>\n",
       "      <td>1.0</td>\n",
       "      <td>chevrolet monte carlo landau</td>\n",
       "    </tr>\n",
       "    <tr>\n",
       "      <th>244</th>\n",
       "      <td>30.5</td>\n",
       "      <td>4.0</td>\n",
       "      <td>98.0</td>\n",
       "      <td>63.0</td>\n",
       "      <td>2051.0</td>\n",
       "      <td>17.0</td>\n",
       "      <td>77.0</td>\n",
       "      <td>1.0</td>\n",
       "      <td>chevrolet chevette</td>\n",
       "    </tr>\n",
       "    <tr>\n",
       "      <th>260</th>\n",
       "      <td>20.5</td>\n",
       "      <td>6.0</td>\n",
       "      <td>200.0</td>\n",
       "      <td>95.0</td>\n",
       "      <td>3155.0</td>\n",
       "      <td>18.2</td>\n",
       "      <td>78.0</td>\n",
       "      <td>1.0</td>\n",
       "      <td>chevrolet malibu</td>\n",
       "    </tr>\n",
       "    <tr>\n",
       "      <th>269</th>\n",
       "      <td>19.2</td>\n",
       "      <td>8.0</td>\n",
       "      <td>305.0</td>\n",
       "      <td>145.0</td>\n",
       "      <td>3425.0</td>\n",
       "      <td>13.2</td>\n",
       "      <td>78.0</td>\n",
       "      <td>1.0</td>\n",
       "      <td>chevrolet monte carlo landau</td>\n",
       "    </tr>\n",
       "    <tr>\n",
       "      <th>273</th>\n",
       "      <td>30.0</td>\n",
       "      <td>4.0</td>\n",
       "      <td>98.0</td>\n",
       "      <td>68.0</td>\n",
       "      <td>2155.0</td>\n",
       "      <td>16.5</td>\n",
       "      <td>78.0</td>\n",
       "      <td>1.0</td>\n",
       "      <td>chevrolet chevette</td>\n",
       "    </tr>\n",
       "    <tr>\n",
       "      <th>292</th>\n",
       "      <td>17.0</td>\n",
       "      <td>8.0</td>\n",
       "      <td>305.0</td>\n",
       "      <td>130.0</td>\n",
       "      <td>3840.0</td>\n",
       "      <td>15.4</td>\n",
       "      <td>79.0</td>\n",
       "      <td>1.0</td>\n",
       "      <td>chevrolet caprice classic</td>\n",
       "    </tr>\n",
       "    <tr>\n",
       "      <th>298</th>\n",
       "      <td>19.2</td>\n",
       "      <td>8.0</td>\n",
       "      <td>267.0</td>\n",
       "      <td>125.0</td>\n",
       "      <td>3605.0</td>\n",
       "      <td>15.0</td>\n",
       "      <td>79.0</td>\n",
       "      <td>1.0</td>\n",
       "      <td>chevrolet malibu classic (sw)</td>\n",
       "    </tr>\n",
       "    <tr>\n",
       "      <th>313</th>\n",
       "      <td>28.8</td>\n",
       "      <td>6.0</td>\n",
       "      <td>173.0</td>\n",
       "      <td>115.0</td>\n",
       "      <td>2595.0</td>\n",
       "      <td>11.3</td>\n",
       "      <td>79.0</td>\n",
       "      <td>1.0</td>\n",
       "      <td>chevrolet citation</td>\n",
       "    </tr>\n",
       "    <tr>\n",
       "      <th>318</th>\n",
       "      <td>32.1</td>\n",
       "      <td>4.0</td>\n",
       "      <td>98.0</td>\n",
       "      <td>70.0</td>\n",
       "      <td>2120.0</td>\n",
       "      <td>15.5</td>\n",
       "      <td>80.0</td>\n",
       "      <td>1.0</td>\n",
       "      <td>chevrolet chevette</td>\n",
       "    </tr>\n",
       "    <tr>\n",
       "      <th>320</th>\n",
       "      <td>28.0</td>\n",
       "      <td>4.0</td>\n",
       "      <td>151.0</td>\n",
       "      <td>90.0</td>\n",
       "      <td>2678.0</td>\n",
       "      <td>16.5</td>\n",
       "      <td>80.0</td>\n",
       "      <td>1.0</td>\n",
       "      <td>chevrolet citation</td>\n",
       "    </tr>\n",
       "    <tr>\n",
       "      <th>348</th>\n",
       "      <td>23.5</td>\n",
       "      <td>6.0</td>\n",
       "      <td>173.0</td>\n",
       "      <td>110.0</td>\n",
       "      <td>2725.0</td>\n",
       "      <td>12.6</td>\n",
       "      <td>81.0</td>\n",
       "      <td>1.0</td>\n",
       "      <td>chevrolet citation</td>\n",
       "    </tr>\n",
       "    <tr>\n",
       "      <th>375</th>\n",
       "      <td>28.0</td>\n",
       "      <td>4.0</td>\n",
       "      <td>112.0</td>\n",
       "      <td>88.0</td>\n",
       "      <td>2605.0</td>\n",
       "      <td>19.6</td>\n",
       "      <td>82.0</td>\n",
       "      <td>1.0</td>\n",
       "      <td>chevrolet cavalier</td>\n",
       "    </tr>\n",
       "    <tr>\n",
       "      <th>376</th>\n",
       "      <td>27.0</td>\n",
       "      <td>4.0</td>\n",
       "      <td>112.0</td>\n",
       "      <td>88.0</td>\n",
       "      <td>2640.0</td>\n",
       "      <td>18.6</td>\n",
       "      <td>82.0</td>\n",
       "      <td>1.0</td>\n",
       "      <td>chevrolet cavalier wagon</td>\n",
       "    </tr>\n",
       "    <tr>\n",
       "      <th>377</th>\n",
       "      <td>34.0</td>\n",
       "      <td>4.0</td>\n",
       "      <td>112.0</td>\n",
       "      <td>88.0</td>\n",
       "      <td>2395.0</td>\n",
       "      <td>18.0</td>\n",
       "      <td>82.0</td>\n",
       "      <td>1.0</td>\n",
       "      <td>chevrolet cavalier 2-door</td>\n",
       "    </tr>\n",
       "    <tr>\n",
       "      <th>400</th>\n",
       "      <td>27.0</td>\n",
       "      <td>4.0</td>\n",
       "      <td>151.0</td>\n",
       "      <td>90.0</td>\n",
       "      <td>2950.0</td>\n",
       "      <td>17.3</td>\n",
       "      <td>82.0</td>\n",
       "      <td>1.0</td>\n",
       "      <td>chevrolet camaro</td>\n",
       "    </tr>\n",
       "  </tbody>\n",
       "</table>\n",
       "</div>"
      ],
      "text/plain": [
       "      mpg  cylinders  displacement  horsepower  weight  acceleration  \\\n",
       "0    18.0        8.0         307.0       130.0  3504.0          12.0   \n",
       "6    14.0        8.0         454.0       220.0  4354.0           9.0   \n",
       "18   15.0        8.0         400.0       150.0  3761.0           9.5   \n",
       "36   28.0        4.0         140.0        90.0  2264.0          15.5   \n",
       "42   17.0        6.0         250.0       100.0  3329.0          15.5   \n",
       "45   14.0        8.0         350.0       165.0  4209.0          12.0   \n",
       "53   22.0        4.0         140.0        72.0  2408.0          19.0   \n",
       "67   20.0        4.0         140.0        90.0  2408.0          19.5   \n",
       "69   13.0        8.0         350.0       165.0  4274.0          12.0   \n",
       "80   13.0        8.0         307.0       130.0  4098.0          14.0   \n",
       "94   13.0        8.0         350.0       145.0  3988.0          13.0   \n",
       "98   13.0        8.0         400.0       150.0  4464.0          12.0   \n",
       "105  16.0        6.0         250.0       100.0  3278.0          18.0   \n",
       "110  11.0        8.0         400.0       150.0  4997.0          14.0   \n",
       "116  21.0        4.0         140.0        72.0  2401.0          19.5   \n",
       "122  15.0        8.0         350.0       145.0  4082.0          13.0   \n",
       "135  15.0        6.0         250.0       100.0  3336.0          17.0   \n",
       "139  25.0        4.0         140.0        75.0  2542.0          17.0   \n",
       "140  16.0        6.0         250.0       100.0  3781.0          17.0   \n",
       "160  18.0        6.0         250.0       105.0  3459.0          16.0   \n",
       "164  15.0        8.0         350.0       145.0  4440.0          14.0   \n",
       "172  20.0        8.0         262.0       110.0  3221.0          13.5   \n",
       "194  17.5        8.0         305.0       140.0  4215.0          13.0   \n",
       "199  22.0        6.0         250.0       105.0  3353.0          14.5   \n",
       "202  29.0        4.0          85.0        52.0  2035.0          22.2   \n",
       "203  24.5        4.0          98.0        60.0  2164.0          22.1   \n",
       "228  17.5        8.0         305.0       145.0  3880.0          12.5   \n",
       "232  17.5        6.0         250.0       110.0  3520.0          16.4   \n",
       "237  15.5        8.0         350.0       170.0  4165.0          11.4   \n",
       "244  30.5        4.0          98.0        63.0  2051.0          17.0   \n",
       "260  20.5        6.0         200.0        95.0  3155.0          18.2   \n",
       "269  19.2        8.0         305.0       145.0  3425.0          13.2   \n",
       "273  30.0        4.0          98.0        68.0  2155.0          16.5   \n",
       "292  17.0        8.0         305.0       130.0  3840.0          15.4   \n",
       "298  19.2        8.0         267.0       125.0  3605.0          15.0   \n",
       "313  28.8        6.0         173.0       115.0  2595.0          11.3   \n",
       "318  32.1        4.0          98.0        70.0  2120.0          15.5   \n",
       "320  28.0        4.0         151.0        90.0  2678.0          16.5   \n",
       "348  23.5        6.0         173.0       110.0  2725.0          12.6   \n",
       "375  28.0        4.0         112.0        88.0  2605.0          19.6   \n",
       "376  27.0        4.0         112.0        88.0  2640.0          18.6   \n",
       "377  34.0        4.0         112.0        88.0  2395.0          18.0   \n",
       "400  27.0        4.0         151.0        90.0  2950.0          17.3   \n",
       "\n",
       "     modelyear  origin                               name  \n",
       "0         70.0     1.0          chevrolet chevelle malibu  \n",
       "6         70.0     1.0                   chevrolet impala  \n",
       "18        70.0     1.0              chevrolet monte carlo  \n",
       "36        71.0     1.0                chevrolet vega 2300  \n",
       "42        71.0     1.0          chevrolet chevelle malibu  \n",
       "45        71.0     1.0                   chevrolet impala  \n",
       "53        71.0     1.0                chevrolet vega (sw)  \n",
       "67        72.0     1.0                     chevrolet vega  \n",
       "69        72.0     1.0                   chevrolet impala  \n",
       "80        72.0     1.0   chevrolet chevelle concours (sw)  \n",
       "94        73.0     1.0                   chevrolet malibu  \n",
       "98        73.0     1.0          chevrolet caprice classic  \n",
       "105       73.0     1.0              chevrolet nova custom  \n",
       "110       73.0     1.0                   chevrolet impala  \n",
       "116       73.0     1.0                     chevrolet vega  \n",
       "122       73.0     1.0            chevrolet monte carlo s  \n",
       "135       74.0     1.0                     chevrolet nova  \n",
       "139       74.0     1.0                     chevrolet vega  \n",
       "140       74.0     1.0  chevrolet chevelle malibu classic  \n",
       "160       75.0     1.0                     chevrolet nova  \n",
       "164       75.0     1.0                  chevrolet bel air  \n",
       "172       75.0     1.0                chevrolet monza 2+2  \n",
       "194       76.0     1.0  chevrolet chevelle malibu classic  \n",
       "199       76.0     1.0                     chevrolet nova  \n",
       "202       76.0     1.0                 chevrolet chevette  \n",
       "203       76.0     1.0                    chevrolet woody  \n",
       "228       77.0     1.0          chevrolet caprice classic  \n",
       "232       77.0     1.0                 chevrolet concours  \n",
       "237       77.0     1.0       chevrolet monte carlo landau  \n",
       "244       77.0     1.0                 chevrolet chevette  \n",
       "260       78.0     1.0                   chevrolet malibu  \n",
       "269       78.0     1.0       chevrolet monte carlo landau  \n",
       "273       78.0     1.0                 chevrolet chevette  \n",
       "292       79.0     1.0          chevrolet caprice classic  \n",
       "298       79.0     1.0      chevrolet malibu classic (sw)  \n",
       "313       79.0     1.0                 chevrolet citation  \n",
       "318       80.0     1.0                 chevrolet chevette  \n",
       "320       80.0     1.0                 chevrolet citation  \n",
       "348       81.0     1.0                 chevrolet citation  \n",
       "375       82.0     1.0                 chevrolet cavalier  \n",
       "376       82.0     1.0           chevrolet cavalier wagon  \n",
       "377       82.0     1.0          chevrolet cavalier 2-door  \n",
       "400       82.0     1.0                   chevrolet camaro  "
      ]
     },
     "execution_count": 15,
     "metadata": {},
     "output_type": "execute_result"
    }
   ],
   "source": [
    "#Todas as características\n",
    "df[df['name'].str.match('chevrolet')]"
   ]
  },
  {
   "cell_type": "markdown",
   "metadata": {},
   "source": [
    "## Tarefa 4: Estatística Descritiva\n",
    "\n",
    "Para o atributo alvo 'mpg', calcule:\n",
    " 1. Média\n",
    " 2. Mediana\n",
    " 3. Máximo\n",
    " 4. Mínimo\n",
    " 5. Desvio Padrão\n",
    " 6. Skewness\n",
    " 7. Curtose\n",
    " 6. Há outliers? (Valores de mpg acima ou abaixo da média + 2 desvios padrões)?\n",
    " 7. Responda: O que se pode afirmar a respeito da distribuição de dados desse atributo?"
   ]
  },
  {
   "cell_type": "code",
   "execution_count": 16,
   "metadata": {},
   "outputs": [
    {
     "data": {
      "text/plain": [
       "23.44591836734694"
      ]
     },
     "execution_count": 16,
     "metadata": {},
     "output_type": "execute_result"
    }
   ],
   "source": [
    "#Média\n",
    "mean = df['mpg'].mean()\n",
    "mean"
   ]
  },
  {
   "cell_type": "code",
   "execution_count": 17,
   "metadata": {},
   "outputs": [
    {
     "data": {
      "text/plain": [
       "22.75"
      ]
     },
     "execution_count": 17,
     "metadata": {},
     "output_type": "execute_result"
    }
   ],
   "source": [
    "np.median(df['mpg'])"
   ]
  },
  {
   "cell_type": "code",
   "execution_count": 18,
   "metadata": {},
   "outputs": [
    {
     "data": {
      "text/plain": [
       "46.6"
      ]
     },
     "execution_count": 18,
     "metadata": {},
     "output_type": "execute_result"
    }
   ],
   "source": [
    "max(df['mpg'])"
   ]
  },
  {
   "cell_type": "code",
   "execution_count": 19,
   "metadata": {},
   "outputs": [
    {
     "data": {
      "text/plain": [
       "9.0"
      ]
     },
     "execution_count": 19,
     "metadata": {},
     "output_type": "execute_result"
    }
   ],
   "source": [
    "min(df['mpg'])"
   ]
  },
  {
   "cell_type": "code",
   "execution_count": 20,
   "metadata": {},
   "outputs": [
    {
     "data": {
      "text/plain": [
       "7.795045762682584"
      ]
     },
     "execution_count": 20,
     "metadata": {},
     "output_type": "execute_result"
    }
   ],
   "source": [
    "std = np.std(df['mpg'])\n",
    "std"
   ]
  },
  {
   "cell_type": "code",
   "execution_count": 21,
   "metadata": {},
   "outputs": [
    {
     "data": {
      "text/plain": [
       "0.45534138282810366"
      ]
     },
     "execution_count": 21,
     "metadata": {},
     "output_type": "execute_result"
    }
   ],
   "source": [
    "skew(df['mpg'])"
   ]
  },
  {
   "cell_type": "code",
   "execution_count": 22,
   "metadata": {},
   "outputs": [
    {
     "data": {
      "text/plain": [
       "-0.52470258338766"
      ]
     },
     "execution_count": 22,
     "metadata": {},
     "output_type": "execute_result"
    }
   ],
   "source": [
    "kurtosis(df['mpg'])"
   ]
  },
  {
   "cell_type": "code",
   "execution_count": 23,
   "metadata": {},
   "outputs": [
    {
     "name": "stdout",
     "output_type": "stream",
     "text": [
      "Quantidade de outliers : 10\n"
     ]
    }
   ],
   "source": [
    "df_aux = df.loc[(df['mpg'] >= (mean - 2 * std)) & (df['mpg'] <= (mean + 2 * std))]\n",
    "if(len(df_aux)):\n",
    "    print(f\"Quantidade de outliers : {len(df) - len(df_aux)}\")"
   ]
  },
  {
   "cell_type": "markdown",
   "metadata": {},
   "source": [
    "**Resposta:** Sim, existem 10 *outliers* no *dataset*."
   ]
  },
  {
   "cell_type": "code",
   "execution_count": 24,
   "metadata": {},
   "outputs": [
    {
     "data": {
      "image/png": "[encoded data removed]",
      "text/plain": [
       "<matplotlib.figure.Figure at 0x13e1a65cbe0>"
      ]
     },
     "metadata": {},
     "output_type": "display_data"
    }
   ],
   "source": [
    "plt.hist(df_aux['mpg'])\n",
    "plt.grid(True)\n",
    "plt.show()"
   ]
  },
  {
   "cell_type": "code",
   "execution_count": 25,
   "metadata": {},
   "outputs": [
    {
     "data": {
      "image/png": "[encoded data removed]",
      "text/plain": [
       "<matplotlib.figure.Figure at 0x13e1a691ac8>"
      ]
     },
     "metadata": {},
     "output_type": "display_data"
    }
   ],
   "source": [
    "ax = sns.boxplot(df_aux['mpg'])\n",
    "ax = sns.swarmplot(df_aux['mpg'],color=\"red\")"
   ]
  },
  {
   "cell_type": "markdown",
   "metadata": {},
   "source": [
    "**Resposta**: Como pode ser visto no histograma e no *boxplot*, os dados não estão muito dispersos mas há uma concentração maior de dados em valores abaixo de 23 *mpg*, ou seja, uma grande parte dos valores se concentra abaixo da mediana, caracterizando uma distribuição assimétrica."
   ]
  },
  {
   "cell_type": "markdown",
   "metadata": {},
   "source": [
    "## Tarefa 5: Identificando correlações\n",
    "\n",
    "1. Qual a correlação entre o peso do chassi (weight) e o consumo (mpg)?\n",
    "2. Essa medida de correlação é mais forte ao considerarmos apenas os carros da marca Toyota?\n",
    "3. Qual a correlação entre a potência (horsepower) e o consumo (mpg) para os veículos do dataset?"
   ]
  },
  {
   "cell_type": "code",
   "execution_count": 26,
   "metadata": {},
   "outputs": [
    {
     "data": {
      "text/plain": [
       "-0.8322442148315753"
      ]
     },
     "execution_count": 26,
     "metadata": {},
     "output_type": "execute_result"
    }
   ],
   "source": [
    "df['weight'].corr(df['mpg'])"
   ]
  },
  {
   "cell_type": "code",
   "execution_count": 27,
   "metadata": {},
   "outputs": [
    {
     "data": {
      "text/plain": [
       "-0.6061073334078747"
      ]
     },
     "execution_count": 27,
     "metadata": {},
     "output_type": "execute_result"
    }
   ],
   "source": [
    "df_toyota = df[df['name'].str.match('toyota')]\n",
    "df_toyota['weight'].corr(df['mpg'])"
   ]
  },
  {
   "cell_type": "markdown",
   "metadata": {},
   "source": [
    "**Resposta**: Como pode ser visto, a correlação de *Pearson* apresentou um valor maior, ou seja, a correlação é mais forte."
   ]
  },
  {
   "cell_type": "code",
   "execution_count": 28,
   "metadata": {},
   "outputs": [
    {
     "data": {
      "text/plain": [
       "-0.7784267838977759"
      ]
     },
     "execution_count": 28,
     "metadata": {},
     "output_type": "execute_result"
    }
   ],
   "source": [
    "df['horsepower'].corr(df['mpg'])"
   ]
  },
  {
   "cell_type": "markdown",
   "metadata": {},
   "source": [
    "## Tarefa 6: Preparando uma partição do tipo Holdout\n",
    "\n",
    "1. Remova do dataset a coluna 'name'\n",
    "2. Exclua o atributo alvo mpg do dataset e o atribua a uma variável Y\n",
    "3. Efetue uma partição holdout 70/30 utilizando o sci-kit learn.\n",
    " - Para auxiliar, consulte a [documentação](http://scikit-learn.org/stable/modules/generated/sklearn.model_selection.train_test_split.html)"
   ]
  },
  {
   "cell_type": "code",
   "execution_count": 29,
   "metadata": {},
   "outputs": [],
   "source": [
    "df.drop(['name'],axis=1,inplace=True)"
   ]
  },
  {
   "cell_type": "code",
   "execution_count": 30,
   "metadata": {},
   "outputs": [],
   "source": [
    "Y = df['mpg']\n",
    "df.drop(['mpg'],axis=1,inplace=True)"
   ]
  },
  {
   "cell_type": "code",
   "execution_count": 31,
   "metadata": {},
   "outputs": [],
   "source": [
    "X_train, X_test, Y_train, Y_test = train_test_split(df,Y,test_size=0.3,shuffle=True)"
   ]
  }
 ],
 "metadata": {
  "kernelspec": {
   "display_name": "Python 3",
   "language": "python",
   "name": "python3"
  },
  "language_info": {
   "codemirror_mode": {
    "name": "ipython",
    "version": 3
   },
   "file_extension": ".py",
   "mimetype": "text/x-python",
   "name": "python",
   "nbconvert_exporter": "python",
   "pygments_lexer": "ipython3",
   "version": "3.6.4"
  }
 },
 "nbformat": 4,
 "nbformat_minor": 2
}
