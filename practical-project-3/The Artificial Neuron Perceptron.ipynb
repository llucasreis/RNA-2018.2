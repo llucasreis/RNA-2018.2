{
 "cells": [
  {
   "cell_type": "markdown",
   "metadata": {},
   "source": [
    "# Projeto Prático #3 - Aprendizado do Perceptron\n",
    "## Equipe\n",
    "* Felipe Getúlio Laranjeira do Nascimento\n",
    "* Lucas Pereira Reis"
   ]
  },
  {
   "cell_type": "markdown",
   "metadata": {},
   "source": [
    "## Importanto as bibliotecas"
   ]
  },
  {
   "cell_type": "code",
   "execution_count": 7,
   "metadata": {},
   "outputs": [],
   "source": [
    "import numpy as np\n",
    "import copy\n",
    "%matplotlib inline\n",
    "import matplotlib.pyplot as plt\n",
    "import math\n",
    "plt.style.use('seaborn-whitegrid')"
   ]
  },
  {
   "cell_type": "markdown",
   "metadata": {},
   "source": [
    "## Implementação"
   ]
  },
  {
   "cell_type": "code",
   "execution_count": 8,
   "metadata": {},
   "outputs": [],
   "source": [
    "class Perceptron:\n",
    "    \n",
    "    def __init__(self, input_table, output_list, activation_function, eta = 0.3):\n",
    "        self.__X = input_table\n",
    "        self.__Y = output_list\n",
    "        self.__W = np.random.random_sample(input_table.shape[1]) - 0.5\n",
    "        self.__activation_function = activation_function\n",
    "        self.__eta = eta\n",
    "        self.__number_of_epochs = None\n",
    "        self.__number_of_adjustments = None\n",
    "    \n",
    "    @property\n",
    "    def number_of_epochs(self):\n",
    "        return self.__number_of_epochs\n",
    "    \n",
    "    @property\n",
    "    def number_of_adjustments(self):\n",
    "        return self.__number_of_adjustments\n",
    "    \n",
    "    @property\n",
    "    def input_table(self):\n",
    "        return copy.deepcopy(self.__X)\n",
    "    \n",
    "    @property\n",
    "    def output_list(self):\n",
    "        return copy.deepcopy(self.__Y)\n",
    "    \n",
    "    @property\n",
    "    def weight_list(self):\n",
    "        return copy.copy(self.__W)\n",
    "    \n",
    "    def weighted_sum(self, x):\n",
    "        return np.dot(x, self.__W)\n",
    "    \n",
    "    def output(self, x):\n",
    "        return self.__activation_function(self.weighted_sum(x))\n",
    "    \n",
    "    def fit(self):\n",
    "        \n",
    "        n = len(self.__X)\n",
    "        is_still_learning = True\n",
    "        self.__number_of_epochs = 0\n",
    "        self.__number_of_adjustments = 0\n",
    "        \n",
    "        while(is_still_learning):\n",
    "            \n",
    "            adjustments_in_epoch = 0\n",
    "            \n",
    "            for x, y in zip(self.__X, self.__Y):\n",
    "                \n",
    "                yd = self.output(x)\n",
    "                \n",
    "                if(y != yd):\n",
    "                    self.__W += self.__eta * (y - yd) * x\n",
    "                    adjustments_in_epoch += 1\n",
    "                    \n",
    "            self.__number_of_adjustments += adjustments_in_epoch\n",
    "            self.__number_of_epochs += 1\n",
    "            is_still_learning = adjustments_in_epoch > 0\n",
    "            \n",
    "            print(f'Epoch {self.__number_of_epochs}')\n",
    "            print(f'Weight vector: {self.__W}')\n",
    "            print(f'Correct examples: {n - adjustments_in_epoch}')\n",
    "            print(f'Incorrect examples: {adjustments_in_epoch}')\n",
    "            print()\n",
    "            "
   ]
  },
  {
   "cell_type": "markdown",
   "metadata": {},
   "source": [
    "## Treinamento"
   ]
  },
  {
   "cell_type": "code",
   "execution_count": 9,
   "metadata": {},
   "outputs": [
    {
     "name": "stdout",
     "output_type": "stream",
     "text": [
      "Epoch 1\n",
      "Weight vector: [ 0.18550319 -0.19515233 -0.15929592]\n",
      "Correct examples: 2\n",
      "Incorrect examples: 2\n",
      "\n",
      "Epoch 2\n",
      "Weight vector: [-0.11449681 -0.49515233 -0.15929592]\n",
      "Correct examples: 1\n",
      "Incorrect examples: 3\n",
      "\n",
      "Epoch 3\n",
      "Weight vector: [-0.41449681 -0.49515233 -0.15929592]\n",
      "Correct examples: 1\n",
      "Incorrect examples: 3\n",
      "\n",
      "Epoch 4\n",
      "Weight vector: [-0.41449681 -0.49515233 -0.45929592]\n",
      "Correct examples: 2\n",
      "Incorrect examples: 2\n",
      "\n",
      "Epoch 5\n",
      "Weight vector: [-0.41449681 -0.79515233 -0.45929592]\n",
      "Correct examples: 2\n",
      "Incorrect examples: 2\n",
      "\n",
      "Epoch 6\n",
      "Weight vector: [-0.71449681 -0.79515233 -0.45929592]\n",
      "Correct examples: 1\n",
      "Incorrect examples: 3\n",
      "\n",
      "Epoch 7\n",
      "Weight vector: [-0.71449681 -0.79515233 -0.75929592]\n",
      "Correct examples: 2\n",
      "Incorrect examples: 2\n",
      "\n",
      "Epoch 8\n",
      "Weight vector: [-1.01449681 -0.79515233 -0.45929592]\n",
      "Correct examples: 3\n",
      "Incorrect examples: 1\n",
      "\n",
      "Epoch 9\n",
      "Weight vector: [-1.01449681 -0.79515233 -0.45929592]\n",
      "Correct examples: 4\n",
      "Incorrect examples: 0\n",
      "\n",
      "Total number of adjustments: 18\n",
      "Total number of epochs: 9\n"
     ]
    }
   ],
   "source": [
    "def simple_activation_function(u):\n",
    "    return int(u >= 0)\n",
    "\n",
    "X = np.array([[-1,0,0] ,[-1,0,1] ,[-1,1,0] ,[-1,1,1]])\n",
    "Y = [1, 1, 1, 0]\n",
    "\n",
    "neuron = Perceptron(X, Y, simple_activation_function)\n",
    "neuron.fit()\n",
    "print(f'Total number of adjustments: {neuron.number_of_adjustments}')\n",
    "print(f'Total number of epochs: {neuron.number_of_epochs}')"
   ]
  },
  {
   "cell_type": "markdown",
   "metadata": {},
   "source": [
    "## Fronteira de Decisão"
   ]
  },
  {
   "cell_type": "code",
   "execution_count": 10,
   "metadata": {},
   "outputs": [
    {
     "data": {
      "image/png": "[encoded data removed]",
      "text/plain": [
       "<Figure size 432x288 with 1 Axes>"
      ]
     },
     "metadata": {},
     "output_type": "display_data"
    }
   ],
   "source": [
    "W = neuron.weight_list\n",
    "x = np.linspace(-1, 2, 1000)\n",
    "y = W[0]/W[2] - (W[1]/W[2]) * x\n",
    "\n",
    "x1 = []\n",
    "x2 = []\n",
    "color_map = ['green', 'red']\n",
    "colors = []\n",
    "\n",
    "for i in range(len(X)):\n",
    "    x1.append(X[i][1])\n",
    "    x2.append(X[i][2])\n",
    "    colors.append(color_map[Y[i]])\n",
    "\n",
    "plt.axis([-1, 2, -1, 2])\n",
    "plt.scatter(x1, x2, color = colors)\n",
    "plt.plot(x, y)\n",
    "plt.xlabel('x1')\n",
    "plt.ylabel('x2')\n",
    "plt.show()"
   ]
  },
  {
   "cell_type": "markdown",
   "metadata": {},
   "source": [
    "## Funções de Ativação"
   ]
  },
  {
   "cell_type": "code",
   "execution_count": 11,
   "metadata": {},
   "outputs": [],
   "source": [
    "intervalo = list(np.arange(-1.5,1.5,0.01))"
   ]
  },
  {
   "cell_type": "markdown",
   "metadata": {},
   "source": [
    "### Degrau"
   ]
  },
  {
   "cell_type": "code",
   "execution_count": 12,
   "metadata": {},
   "outputs": [],
   "source": [
    "theta = 0.5\n",
    "def step(u):\n",
    "    return 1 if u >= theta else 0"
   ]
  },
  {
   "cell_type": "code",
   "execution_count": 13,
   "metadata": {},
   "outputs": [
    {
     "data": {
      "image/png": "[encoded data removed]",
      "text/plain": [
       "<Figure size 432x288 with 1 Axes>"
      ]
     },
     "metadata": {},
     "output_type": "display_data"
    }
   ],
   "source": [
    "y = [step(x) for x in intervalo]\n",
    "plt.plot(intervalo,y)\n",
    "plt.grid(True)\n",
    "plt.show()"
   ]
  },
  {
   "cell_type": "markdown",
   "metadata": {},
   "source": [
    "### Sigmoidal"
   ]
  },
  {
   "cell_type": "code",
   "execution_count": 14,
   "metadata": {},
   "outputs": [],
   "source": [
    "x0 = 0\n",
    "def sigmoid(k,u):\n",
    "    return 1 / (1 + math.exp(-k*(u-x0)))"
   ]
  },
  {
   "cell_type": "code",
   "execution_count": 15,
   "metadata": {},
   "outputs": [
    {
     "data": {
      "image/png": "[encoded data removed]",
      "text/plain": [
       "<Figure size 432x288 with 1 Axes>"
      ]
     },
     "metadata": {},
     "output_type": "display_data"
    }
   ],
   "source": [
    "y = [sigmoid(1,x) for x in intervalo]\n",
    "plt.plot(intervalo,y)\n",
    "plt.grid(True)\n",
    "plt.show()"
   ]
  },
  {
   "cell_type": "code",
   "execution_count": 16,
   "metadata": {},
   "outputs": [
    {
     "data": {
      "image/png": "[encoded data removed]",
      "text/plain": [
       "<Figure size 432x288 with 1 Axes>"
      ]
     },
     "metadata": {},
     "output_type": "display_data"
    }
   ],
   "source": [
    "y = [sigmoid(2,x) for x in intervalo]\n",
    "plt.plot(intervalo,y)\n",
    "plt.grid(True)\n",
    "plt.show()"
   ]
  },
  {
   "cell_type": "code",
   "execution_count": 17,
   "metadata": {},
   "outputs": [
    {
     "data": {
      "image/png": "[encoded data removed]",
      "text/plain": [
       "<Figure size 432x288 with 1 Axes>"
      ]
     },
     "metadata": {},
     "output_type": "display_data"
    }
   ],
   "source": [
    "y = [sigmoid(3,x) for x in intervalo]\n",
    "plt.plot(intervalo,y)\n",
    "plt.grid(True)\n",
    "plt.show()"
   ]
  },
  {
   "cell_type": "markdown",
   "metadata": {},
   "source": [
    "### Tangente Hiperbólica"
   ]
  },
  {
   "cell_type": "code",
   "execution_count": 18,
   "metadata": {},
   "outputs": [],
   "source": [
    "def hyptan(u):\n",
    "    return np.tanh(u)"
   ]
  },
  {
   "cell_type": "code",
   "execution_count": 19,
   "metadata": {},
   "outputs": [
    {
     "data": {
      "image/png": "[encoded data removed]",
      "text/plain": [
       "<Figure size 432x288 with 1 Axes>"
      ]
     },
     "metadata": {},
     "output_type": "display_data"
    }
   ],
   "source": [
    "y = [hyptan(x) for x in intervalo]\n",
    "plt.plot(intervalo,y)\n",
    "plt.grid(True)\n",
    "plt.show()"
   ]
  },
  {
   "cell_type": "markdown",
   "metadata": {},
   "source": [
    "### ReLU"
   ]
  },
  {
   "cell_type": "code",
   "execution_count": 20,
   "metadata": {},
   "outputs": [],
   "source": [
    "def relu(u):\n",
    "    return max(0,u)"
   ]
  },
  {
   "cell_type": "code",
   "execution_count": 21,
   "metadata": {},
   "outputs": [
    {
     "data": {
      "image/png": "[encoded data removed]",
      "text/plain": [
       "<Figure size 432x288 with 1 Axes>"
      ]
     },
     "metadata": {},
     "output_type": "display_data"
    }
   ],
   "source": [
    "y = [relu(x) for x in intervalo]\n",
    "plt.plot(intervalo,y)\n",
    "plt.grid(True)\n",
    "plt.show()"
   ]
  }
 ],
 "metadata": {
  "kernelspec": {
   "display_name": "Python 3",
   "language": "python",
   "name": "python3"
  },
  "language_info": {
   "codemirror_mode": {
    "name": "ipython",
    "version": 3
   },
   "file_extension": ".py",
   "mimetype": "text/x-python",
   "name": "python",
   "nbconvert_exporter": "python",
   "pygments_lexer": "ipython3",
   "version": "3.6.4"
  }
 },
 "nbformat": 4,
 "nbformat_minor": 2
}
